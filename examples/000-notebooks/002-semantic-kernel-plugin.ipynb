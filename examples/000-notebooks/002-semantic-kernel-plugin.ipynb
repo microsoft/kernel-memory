{
 "cells": [
  {
   "cell_type": "markdown",
   "metadata": {},
   "source": [
    "# Kernel Memory plugin for Semantic Kernel\n",
    "\n",
    "This notebook shows the basic usage of Kernel Memory as a Semantic Kernel Plugin.\n",
    "\n",
    "First of all, install the Kernel Memory SK Plugin and SK dependencies."
   ]
  },
  {
   "cell_type": "code",
   "execution_count": 9,
   "metadata": {
    "dotnet_interactive": {
     "language": "csharp"
    },
    "polyglot_notebook": {
     "kernelName": "csharp"
    }
   },
   "outputs": [
    {
     "data": {
      "text/html": [
       "<div><div></div><div></div><div><strong>Installed Packages</strong><ul><li><span>Microsoft.KernelMemory.SemanticKernelPlugin, 0.11.231121.1-preview</span></li><li><span>Microsoft.SemanticKernel, 1.0.0-beta8</span></li></ul></div></div>"
      ]
     },
     "metadata": {},
     "output_type": "display_data"
    }
   ],
   "source": [
    "#r \"nuget: Microsoft.SemanticKernel, 1.0.0-beta8\"\n",
    "#r \"nuget: Microsoft.KernelMemory.SemanticKernelPlugin, 0.11.231121.1-preview\"\n",
    "\n",
    "using Microsoft.SemanticKernel;\n",
    "using Microsoft.KernelMemory;"
   ]
  },
  {
   "cell_type": "markdown",
   "metadata": {},
   "source": [
    "For our demo, we use also the \"dotenv\" nuget, to load our secret credentials from a `.env` file.\n",
    "Make sure you create your `.env` file, with your OpenAI API Key, and your Memory Service API Key (if you set one).\n",
    "\n",
    "> ```\n",
    "> OPENAI_API_KEY=<your OpenAI API key>\n",
    "> MEMORY_API_KEY=<your KM web service API key>\n",
    "> ```"
   ]
  },
  {
   "cell_type": "code",
   "execution_count": null,
   "metadata": {
    "dotnet_interactive": {
     "language": "csharp"
    },
    "polyglot_notebook": {
     "kernelName": "csharp"
    }
   },
   "outputs": [],
   "source": [
    "#r \"nuget: dotenv.net, 3.1.2\"\n",
    "\n",
    "dotenv.net.DotEnv.Load();\n",
    "var env = dotenv.net.DotEnv.Read();"
   ]
  },
  {
   "cell_type": "markdown",
   "metadata": {},
   "source": [
    "Let's setup Semantic Kernel as usual:"
   ]
  },
  {
   "cell_type": "code",
   "execution_count": 11,
   "metadata": {
    "dotnet_interactive": {
     "language": "csharp"
    },
    "polyglot_notebook": {
     "kernelName": "csharp"
    }
   },
   "outputs": [],
   "source": [
    "var kernel = new KernelBuilder()\n",
    "    .WithOpenAIChatCompletionService(\n",
    "        modelId: \"gpt-3.5-turbo\",\n",
    "        apiKey: env[\"OPENAI_API_KEY\"])\n",
    "    .Build();"
   ]
  },
  {
   "cell_type": "markdown",
   "metadata": {},
   "source": [
    "Here we define a simple semantic function, which depends on `{{memory.ask}}` to\n",
    "fetch information from memory."
   ]
  },
  {
   "cell_type": "code",
   "execution_count": 12,
   "metadata": {
    "dotnet_interactive": {
     "language": "csharp"
    },
    "polyglot_notebook": {
     "kernelName": "csharp"
    }
   },
   "outputs": [],
   "source": [
    " var skPrompt = \"\"\"\n",
    "                Question to Kernel Memory: {{$input}}\n",
    "\n",
    "                Kernel Memory Answer: {{memory.ask $input}}\n",
    "\n",
    "                If the answer is empty say 'I don't know' otherwise reply with a preview of the answer, truncated to 15 words. Prefix with one emoji relevant to the content.\n",
    "                \"\"\";\n",
    "\n",
    "var myOracleFunction = kernel.CreateSemanticFunction(skPrompt);"
   ]
  },
  {
   "cell_type": "markdown",
   "metadata": {},
   "source": [
    "Let's load Kernel Memory plugin into SK. \n",
    "\n",
    "Remember to start the memory service on localhost, otherwise change the URL and\n",
    "point it to your Kernel Memory service endpoint. In that case you should also\n",
    "provide the API key protecting your KM deployment."
   ]
  },
  {
   "cell_type": "code",
   "execution_count": 13,
   "metadata": {
    "dotnet_interactive": {
     "language": "csharp"
    },
    "polyglot_notebook": {
     "kernelName": "csharp"
    }
   },
   "outputs": [],
   "source": [
    "var memoryServiceEndpoint = \"http://127.0.0.1:9001/\";\n",
    "var memoryServiceAPIKey = env[\"MEMORY_API_KEY\"];\n",
    "\n",
    "var memoryConnector = new MemoryWebClient(memoryServiceEndpoint, memoryServiceAPIKey);\n",
    "\n",
    "var pluginName = \"memory\";\n",
    "\n",
    "var memoryPlugin = kernel.ImportFunctions(new MemoryPlugin(memoryConnector, waitForIngestionToComplete: true), pluginName);"
   ]
  },
  {
   "cell_type": "markdown",
   "metadata": {},
   "source": [
    "Let's save some data:\n",
    "\n",
    "1. storing some text\n",
    "2. and importing a PDF document. \n",
    "\n",
    "To import data you can use either the web client connector or the plugin, here we use both just for demo purposes.\n",
    "\n",
    "When working with SK Planners and Semantic Functions (like the function above) instead, you should always\n",
    "use KM Plugin. Of course, you can also use the web client connector to create new plugins and customize\n",
    "how you interact with your memories."
   ]
  },
  {
   "cell_type": "code",
   "execution_count": 14,
   "metadata": {
    "dotnet_interactive": {
     "language": "csharp"
    },
    "polyglot_notebook": {
     "kernelName": "csharp"
    }
   },
   "outputs": [
    {
     "name": "stdout",
     "output_type": "stream",
     "text": [
      "Memory updated.\n"
     ]
    }
   ],
   "source": [
    "// Save a string using the web client\n",
    "await memoryConnector.ImportTextAsync(\"Orion is a prominent set of stars visible during winter in \" +\n",
    "                                      \"the northern celestial hemisphere. It is one of the 88 modern constellations; \" +\n",
    "                                      \"it was among the 48 constellations listed by the 2nd-century astronomer Ptolemy. \" +\n",
    "                                      \"It is named for a hunter in Greek mythology.\", \n",
    "                                      documentId: \"OrionDefinition\");\n",
    "\n",
    "// Save a PDF file using the plugin\n",
    "var context = kernel.CreateNewContext();\n",
    "context.Variables[MemoryPlugin.FilePathParam] = \"NASA-news.pdf\";\n",
    "context.Variables[MemoryPlugin.DocumentIdParam] = \"NASA001\";\n",
    "await memoryPlugin[\"SaveFile\"].InvokeAsync(context);\n",
    "\n",
    "Console.WriteLine(\"Memory updated.\");"
   ]
  },
  {
   "cell_type": "markdown",
   "metadata": {},
   "source": [
    "Let's now interact with our memories using `myOracleFunction` function, asking questions, leveraging KM and LLMs to generate answers.\n",
    "\n",
    "Our function internally uses KM Plugin to retrieve an answer, and then custom some semantic logic to decide how to format the output."
   ]
  },
  {
   "cell_type": "code",
   "execution_count": 15,
   "metadata": {
    "dotnet_interactive": {
     "language": "csharp"
    },
    "polyglot_notebook": {
     "kernelName": "csharp"
    }
   },
   "outputs": [
    {
     "name": "stdout",
     "output_type": "stream",
     "text": [
      "Answer: 🚀 NASA has invited media to see the new test version of Orion spacecraft and recovery hardware.\n"
     ]
    }
   ],
   "source": [
    "var answer = await myOracleFunction.InvokeAsync(\"any news from NASA about Orion?\", kernel);\n",
    "Console.WriteLine(\"Answer: \" + answer);"
   ]
  },
  {
   "cell_type": "code",
   "execution_count": 16,
   "metadata": {
    "dotnet_interactive": {
     "language": "csharp"
    },
    "polyglot_notebook": {
     "kernelName": "csharp"
    }
   },
   "outputs": [
    {
     "name": "stdout",
     "output_type": "stream",
     "text": [
      "Answer: 🌌 Orion is a constellation named after a hunter in Greek mythology and also a NASA spacecraft.\n"
     ]
    }
   ],
   "source": [
    "var answer = await myOracleFunction.InvokeAsync(\"what is Orion?\", kernel);\n",
    "Console.WriteLine(\"Answer: \" + answer);"
   ]
  }
 ],
 "metadata": {
  "kernelspec": {
   "display_name": ".NET (C#)",
   "language": "C#",
   "name": ".net-csharp"
  },
  "language_info": {
   "name": "polyglot-notebook"
  },
  "polyglot_notebook": {
   "kernelInfo": {
    "defaultKernelName": "csharp",
    "items": [
     {
      "aliases": [],
      "languageName": "csharp",
      "name": "csharp"
     }
    ]
   }
  }
 },
 "nbformat": 4,
 "nbformat_minor": 2
}
