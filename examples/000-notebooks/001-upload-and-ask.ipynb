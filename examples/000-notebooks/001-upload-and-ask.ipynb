{
 "cells": [
  {
   "cell_type": "markdown",
   "metadata": {},
   "source": [
    "# Quick intro to Kernel Memory: install, upload a doc, ask a question\n",
    "\n",
    "This notebook shows the basic usage of Kernel Memory, via the serverless client.\n",
    "\n",
    "First of all, install the Kernel Memory dependency."
   ]
  },
  {
   "cell_type": "code",
   "execution_count": 1,
   "metadata": {
    "dotnet_interactive": {
     "language": "csharp"
    },
    "polyglot_notebook": {
     "kernelName": "csharp"
    }
   },
   "outputs": [
    {
     "data": {
      "text/html": [
       "<div><div></div><div></div><div><strong>Installed Packages</strong><ul><li><span>Microsoft.KernelMemory.Core, 0.5.231025.2-preview</span></li></ul></div></div>"
      ]
     },
     "metadata": {},
     "output_type": "display_data"
    }
   ],
   "source": [
    "#r \"nuget: Microsoft.KernelMemory.Core, 0.5.231025.2-preview\"\n",
    "\n",
    "using Microsoft.KernelMemory;"
   ]
  },
  {
   "cell_type": "markdown",
   "metadata": {},
   "source": [
    "For our demo, we use also the \"dotenv\" nuget, to load our secret credentials from a `.env` file.\n",
    "Make sure you create your `.env` file, with this content:\n",
    "\n",
    "> ```\n",
    "> OPENAI_API_KEY=<your OpenAI API key>\n",
    "> ACS_ENDPOINT=<your Azure Cognitive Search endpoint>\n",
    "> ACS_API_KEY=<your Azure Cognitive Search API key>\n",
    "> ```"
   ]
  },
  {
   "cell_type": "code",
   "execution_count": 2,
   "metadata": {
    "dotnet_interactive": {
     "language": "csharp"
    },
    "polyglot_notebook": {
     "kernelName": "csharp"
    }
   },
   "outputs": [
    {
     "data": {
      "text/html": [
       "<div><div></div><div></div><div><strong>Installed Packages</strong><ul><li><span>dotenv.net, 3.1.2</span></li></ul></div></div>"
      ]
     },
     "metadata": {},
     "output_type": "display_data"
    }
   ],
   "source": [
    "#r \"nuget: dotenv.net, 3.1.2\"\n",
    "\n",
    "dotenv.net.DotEnv.Load();\n",
    "var env = dotenv.net.DotEnv.Read();"
   ]
  },
  {
   "cell_type": "markdown",
   "metadata": {},
   "source": [
    "Now let's create an instance of Kernel Memory client using the `KernelMemoryBuilder` to configure our solution. \n",
    "\n",
    "In this demo we use OpenAI to calculate embeddings and generate text, and the default storage settings, with content and embeddings kept in a volatile memory automatically deleted after the execution."
   ]
  },
  {
   "cell_type": "code",
   "execution_count": 3,
   "metadata": {
    "dotnet_interactive": {
     "language": "csharp"
    },
    "polyglot_notebook": {
     "kernelName": "csharp"
    }
   },
   "outputs": [
    {
     "name": "stdout",
     "output_type": "stream",
     "text": [
      "info: Microsoft.KernelMemory.Handlers.TextExtractionHandler[0]\n",
      "      Handler 'extract' ready\n",
      "info: Microsoft.KernelMemory.Handlers.TextPartitioningHandler[0]\n",
      "      Handler 'partition' ready\n",
      "info: Microsoft.KernelMemory.Handlers.SummarizationHandler[0]\n",
      "      Handler 'summarize' ready\n",
      "info: Microsoft.KernelMemory.Handlers.GenerateEmbeddingsHandler[0]\n",
      "      Handler 'gen_embeddings' ready, 1 embedding generators\n",
      "info: Microsoft.KernelMemory.Handlers.SaveEmbeddingsHandler[0]\n",
      "      Handler save_embeddings ready, 1 vector storages\n",
      "info: Microsoft.KernelMemory.Handlers.DeleteDocumentHandler[0]\n",
      "      Handler 'private_delete_document' ready\n",
      "info: Microsoft.KernelMemory.Handlers.DeleteIndexHandler[0]\n",
      "      Handler 'private_delete_index' ready\n"
     ]
    }
   ],
   "source": [
    "var memory = new KernelMemoryBuilder()\n",
    "    .WithOpenAIDefaults(env[\"OPENAI_API_KEY\"])\n",
    "    .BuildServerlessClient();"
   ]
  },
  {
   "cell_type": "markdown",
   "metadata": {},
   "source": [
    "At this point we have the memory client ready, we can import data and ask questions!\n",
    "\n",
    "Let's import a PDF file with some details about Semantic Kernel:"
   ]
  },
  {
   "cell_type": "code",
   "execution_count": 4,
   "metadata": {
    "dotnet_interactive": {
     "language": "csharp"
    },
    "polyglot_notebook": {
     "kernelName": "csharp"
    }
   },
   "outputs": [],
   "source": [
    "await memory.ImportDocumentAsync(\"sample-SK-Readme.pdf\", documentId: \"doc001\");"
   ]
  },
  {
   "cell_type": "markdown",
   "metadata": {},
   "source": [
    "Now, let's ask a question about Semantic Kernel:"
   ]
  },
  {
   "cell_type": "code",
   "execution_count": 5,
   "metadata": {
    "dotnet_interactive": {
     "language": "csharp"
    },
    "polyglot_notebook": {
     "kernelName": "csharp"
    }
   },
   "outputs": [
    {
     "name": "stdout",
     "output_type": "stream",
     "text": [
      "Question: What's Semantic Kernel?\n",
      "\n",
      "Answer: Semantic Kernel (SK) is a lightweight SDK (Software Development Kit) developed by Microsoft. It allows for the integration of AI Large Language Models (LLMs) with conventional programming languages. SK combines natural language semantic functions, traditional code native functions, and embeddings-based memory to enhance applications with AI capabilities. It supports prompt templating, function chaining, vectorized memory, and intelligent planning capabilities. SK encapsulates several design patterns from AI research, such as prompt chaining, recursive reasoning, summarization, zero/few-shot learning, contextual memory, and more. It is open-source and developers are invited to contribute to its development. SK can be deployed to Azure as a web app service.\n"
     ]
    }
   ],
   "source": [
    "var question = \"What's Semantic Kernel?\";\n",
    "\n",
    "var answer = await memory.AskAsync(question);\n",
    "\n",
    "Console.WriteLine($\"Question: {question}\\n\\nAnswer: {answer.Result}\");"
   ]
  },
  {
   "cell_type": "markdown",
   "metadata": {},
   "source": [
    "And here show the sources used to generate the answer above, what we call \"citations\":"
   ]
  },
  {
   "cell_type": "code",
   "execution_count": 6,
   "metadata": {
    "dotnet_interactive": {
     "language": "csharp"
    },
    "polyglot_notebook": {
     "kernelName": "csharp"
    }
   },
   "outputs": [
    {
     "name": "stdout",
     "output_type": "stream",
     "text": [
      "Sources:\n",
      "\n",
      "  - sample-SK-Readme.pdf  - doc001/07645fab5a504d65bbc724c0903bc322 [Wednesday, October 25, 2023]\n"
     ]
    }
   ],
   "source": [
    "Console.WriteLine(\"Sources:\\n\");\n",
    "\n",
    "foreach (var x in answer.RelevantSources)\n",
    "{\n",
    "    Console.WriteLine($\"  - {x.SourceName}  - {x.Link} [{x.Partitions.First().LastUpdate:D}]\");\n",
    "}"
   ]
  }
 ],
 "metadata": {
  "kernelspec": {
   "display_name": ".NET (C#)",
   "language": "C#",
   "name": ".net-csharp"
  },
  "language_info": {
   "name": "polyglot-notebook"
  },
  "polyglot_notebook": {
   "kernelInfo": {
    "defaultKernelName": "csharp",
    "items": [
     {
      "aliases": [],
      "languageName": "csharp",
      "name": "csharp"
     }
    ]
   }
  }
 },
 "nbformat": 4,
 "nbformat_minor": 2
}
